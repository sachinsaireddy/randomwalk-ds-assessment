{
  "nbformat": 4,
  "nbformat_minor": 0,
  "metadata": {
    "colab": {
      "provenance": []
    },
    "kernelspec": {
      "name": "python3",
      "display_name": "Python 3"
    },
    "language_info": {
      "name": "python"
    }
  },
  "cells": [
    {
      "cell_type": "code",
      "execution_count": 1,
      "metadata": {
        "id": "Kd3bbfZNhmAv"
      },
      "outputs": [],
      "source": [
        "import pandas as pd"
      ]
    },
    {
      "cell_type": "code",
      "source": [
        "\n",
        "path = '/content/books.csv'\n",
        "df = pd.read_csv(path)"
      ],
      "metadata": {
        "id": "ZR8zR8n6i_Qy"
      },
      "execution_count": 6,
      "outputs": []
    },
    {
      "cell_type": "code",
      "source": [
        "df.head()"
      ],
      "metadata": {
        "colab": {
          "base_uri": "https://localhost:8080/",
          "height": 499
        },
        "id": "kr_sBOYqkUSi",
        "outputId": "d2ab4bab-af90-442f-811f-880af6c36055"
      },
      "execution_count": 7,
      "outputs": [
        {
          "output_type": "execute_result",
          "data": {
            "text/plain": [
              "   book_id  goodreads_book_id  best_book_id  work_id  books_count        isbn  \\\n",
              "0       15              48855         48855  3532896          710   553296981   \n",
              "1       40              19501         19501  3352398          185   143038419   \n",
              "2       81               7445          7445  2944133           92  074324754X   \n",
              "3       82               1845          1845  3284484          108   385486804   \n",
              "4       87               1617          1617   265616          109   374500010   \n",
              "\n",
              "         isbn13                                            authors  \\\n",
              "0  9.780553e+12  Anne Frank, Eleanor Roosevelt, B.M. Mooyaart-D...   \n",
              "1  9.780143e+12                                  Elizabeth Gilbert   \n",
              "2  9.780743e+12                                    Jeannette Walls   \n",
              "3  9.780385e+12                                       Jon Krakauer   \n",
              "4  9.780375e+12                         Elie Wiesel, Marion Wiesel   \n",
              "\n",
              "   original_publication_year  \\\n",
              "0                     1947.0   \n",
              "1                     2006.0   \n",
              "2                     2005.0   \n",
              "3                     1996.0   \n",
              "4                     1958.0   \n",
              "\n",
              "                                      original_title  ... work_ratings_count  \\\n",
              "0  Het Achterhuis: Dagboekbrieven 14 juni 1942 - ...  ...            2024493   \n",
              "1  Eat, pray, love: one woman's search for everyt...  ...            1206597   \n",
              "2                                   The Glass Castle  ...             637866   \n",
              "3                                      Into the Wild  ...             665377   \n",
              "4                            Un di Velt Hot Geshvign  ...             707879   \n",
              "\n",
              "  work_text_reviews_count  ratings_1  ratings_2  ratings_3  ratings_4  \\\n",
              "0                   20825      45225      91270     355756     656870   \n",
              "1                   49714     100373     149549     310212     332191   \n",
              "2                   40777       7901      18922      85191     227750   \n",
              "3                   17299      19229      35567     135199     248287   \n",
              "4                   22001       7761      18539      90575     230227   \n",
              "\n",
              "   ratings_5                                          image_url  \\\n",
              "0     875372  https://images.gr-assets.com/books/1358276407m...   \n",
              "1     314272  https://images.gr-assets.com/books/1503066414m...   \n",
              "2     298102  https://images.gr-assets.com/books/1400930557m...   \n",
              "3     227095  https://images.gr-assets.com/books/1403173986m...   \n",
              "4     360777  https://images.gr-assets.com/books/1473495285m...   \n",
              "\n",
              "                                     small_image_url  NonEnglish  \n",
              "0  https://images.gr-assets.com/books/1358276407s...           0  \n",
              "1  https://images.gr-assets.com/books/1503066414s...           0  \n",
              "2  https://images.gr-assets.com/books/1400930557s...           0  \n",
              "3  https://images.gr-assets.com/books/1403173986s...           0  \n",
              "4  https://images.gr-assets.com/books/1473495285s...           0  \n",
              "\n",
              "[5 rows x 24 columns]"
            ],
            "text/html": [
              "\n",
              "  <div id=\"df-157ecee3-29ba-4771-ab22-d3e9a50f7881\" class=\"colab-df-container\">\n",
              "    <div>\n",
              "<style scoped>\n",
              "    .dataframe tbody tr th:only-of-type {\n",
              "        vertical-align: middle;\n",
              "    }\n",
              "\n",
              "    .dataframe tbody tr th {\n",
              "        vertical-align: top;\n",
              "    }\n",
              "\n",
              "    .dataframe thead th {\n",
              "        text-align: right;\n",
              "    }\n",
              "</style>\n",
              "<table border=\"1\" class=\"dataframe\">\n",
              "  <thead>\n",
              "    <tr style=\"text-align: right;\">\n",
              "      <th></th>\n",
              "      <th>book_id</th>\n",
              "      <th>goodreads_book_id</th>\n",
              "      <th>best_book_id</th>\n",
              "      <th>work_id</th>\n",
              "      <th>books_count</th>\n",
              "      <th>isbn</th>\n",
              "      <th>isbn13</th>\n",
              "      <th>authors</th>\n",
              "      <th>original_publication_year</th>\n",
              "      <th>original_title</th>\n",
              "      <th>...</th>\n",
              "      <th>work_ratings_count</th>\n",
              "      <th>work_text_reviews_count</th>\n",
              "      <th>ratings_1</th>\n",
              "      <th>ratings_2</th>\n",
              "      <th>ratings_3</th>\n",
              "      <th>ratings_4</th>\n",
              "      <th>ratings_5</th>\n",
              "      <th>image_url</th>\n",
              "      <th>small_image_url</th>\n",
              "      <th>NonEnglish</th>\n",
              "    </tr>\n",
              "  </thead>\n",
              "  <tbody>\n",
              "    <tr>\n",
              "      <th>0</th>\n",
              "      <td>15</td>\n",
              "      <td>48855</td>\n",
              "      <td>48855</td>\n",
              "      <td>3532896</td>\n",
              "      <td>710</td>\n",
              "      <td>553296981</td>\n",
              "      <td>9.780553e+12</td>\n",
              "      <td>Anne Frank, Eleanor Roosevelt, B.M. Mooyaart-D...</td>\n",
              "      <td>1947.0</td>\n",
              "      <td>Het Achterhuis: Dagboekbrieven 14 juni 1942 - ...</td>\n",
              "      <td>...</td>\n",
              "      <td>2024493</td>\n",
              "      <td>20825</td>\n",
              "      <td>45225</td>\n",
              "      <td>91270</td>\n",
              "      <td>355756</td>\n",
              "      <td>656870</td>\n",
              "      <td>875372</td>\n",
              "      <td>https://images.gr-assets.com/books/1358276407m...</td>\n",
              "      <td>https://images.gr-assets.com/books/1358276407s...</td>\n",
              "      <td>0</td>\n",
              "    </tr>\n",
              "    <tr>\n",
              "      <th>1</th>\n",
              "      <td>40</td>\n",
              "      <td>19501</td>\n",
              "      <td>19501</td>\n",
              "      <td>3352398</td>\n",
              "      <td>185</td>\n",
              "      <td>143038419</td>\n",
              "      <td>9.780143e+12</td>\n",
              "      <td>Elizabeth Gilbert</td>\n",
              "      <td>2006.0</td>\n",
              "      <td>Eat, pray, love: one woman's search for everyt...</td>\n",
              "      <td>...</td>\n",
              "      <td>1206597</td>\n",
              "      <td>49714</td>\n",
              "      <td>100373</td>\n",
              "      <td>149549</td>\n",
              "      <td>310212</td>\n",
              "      <td>332191</td>\n",
              "      <td>314272</td>\n",
              "      <td>https://images.gr-assets.com/books/1503066414m...</td>\n",
              "      <td>https://images.gr-assets.com/books/1503066414s...</td>\n",
              "      <td>0</td>\n",
              "    </tr>\n",
              "    <tr>\n",
              "      <th>2</th>\n",
              "      <td>81</td>\n",
              "      <td>7445</td>\n",
              "      <td>7445</td>\n",
              "      <td>2944133</td>\n",
              "      <td>92</td>\n",
              "      <td>074324754X</td>\n",
              "      <td>9.780743e+12</td>\n",
              "      <td>Jeannette Walls</td>\n",
              "      <td>2005.0</td>\n",
              "      <td>The Glass Castle</td>\n",
              "      <td>...</td>\n",
              "      <td>637866</td>\n",
              "      <td>40777</td>\n",
              "      <td>7901</td>\n",
              "      <td>18922</td>\n",
              "      <td>85191</td>\n",
              "      <td>227750</td>\n",
              "      <td>298102</td>\n",
              "      <td>https://images.gr-assets.com/books/1400930557m...</td>\n",
              "      <td>https://images.gr-assets.com/books/1400930557s...</td>\n",
              "      <td>0</td>\n",
              "    </tr>\n",
              "    <tr>\n",
              "      <th>3</th>\n",
              "      <td>82</td>\n",
              "      <td>1845</td>\n",
              "      <td>1845</td>\n",
              "      <td>3284484</td>\n",
              "      <td>108</td>\n",
              "      <td>385486804</td>\n",
              "      <td>9.780385e+12</td>\n",
              "      <td>Jon Krakauer</td>\n",
              "      <td>1996.0</td>\n",
              "      <td>Into the Wild</td>\n",
              "      <td>...</td>\n",
              "      <td>665377</td>\n",
              "      <td>17299</td>\n",
              "      <td>19229</td>\n",
              "      <td>35567</td>\n",
              "      <td>135199</td>\n",
              "      <td>248287</td>\n",
              "      <td>227095</td>\n",
              "      <td>https://images.gr-assets.com/books/1403173986m...</td>\n",
              "      <td>https://images.gr-assets.com/books/1403173986s...</td>\n",
              "      <td>0</td>\n",
              "    </tr>\n",
              "    <tr>\n",
              "      <th>4</th>\n",
              "      <td>87</td>\n",
              "      <td>1617</td>\n",
              "      <td>1617</td>\n",
              "      <td>265616</td>\n",
              "      <td>109</td>\n",
              "      <td>374500010</td>\n",
              "      <td>9.780375e+12</td>\n",
              "      <td>Elie Wiesel, Marion Wiesel</td>\n",
              "      <td>1958.0</td>\n",
              "      <td>Un di Velt Hot Geshvign</td>\n",
              "      <td>...</td>\n",
              "      <td>707879</td>\n",
              "      <td>22001</td>\n",
              "      <td>7761</td>\n",
              "      <td>18539</td>\n",
              "      <td>90575</td>\n",
              "      <td>230227</td>\n",
              "      <td>360777</td>\n",
              "      <td>https://images.gr-assets.com/books/1473495285m...</td>\n",
              "      <td>https://images.gr-assets.com/books/1473495285s...</td>\n",
              "      <td>0</td>\n",
              "    </tr>\n",
              "  </tbody>\n",
              "</table>\n",
              "<p>5 rows × 24 columns</p>\n",
              "</div>\n",
              "    <div class=\"colab-df-buttons\">\n",
              "\n",
              "  <div class=\"colab-df-container\">\n",
              "    <button class=\"colab-df-convert\" onclick=\"convertToInteractive('df-157ecee3-29ba-4771-ab22-d3e9a50f7881')\"\n",
              "            title=\"Convert this dataframe to an interactive table.\"\n",
              "            style=\"display:none;\">\n",
              "\n",
              "  <svg xmlns=\"http://www.w3.org/2000/svg\" height=\"24px\" viewBox=\"0 -960 960 960\">\n",
              "    <path d=\"M120-120v-720h720v720H120Zm60-500h600v-160H180v160Zm220 220h160v-160H400v160Zm0 220h160v-160H400v160ZM180-400h160v-160H180v160Zm440 0h160v-160H620v160ZM180-180h160v-160H180v160Zm440 0h160v-160H620v160Z\"/>\n",
              "  </svg>\n",
              "    </button>\n",
              "\n",
              "  <style>\n",
              "    .colab-df-container {\n",
              "      display:flex;\n",
              "      gap: 12px;\n",
              "    }\n",
              "\n",
              "    .colab-df-convert {\n",
              "      background-color: #E8F0FE;\n",
              "      border: none;\n",
              "      border-radius: 50%;\n",
              "      cursor: pointer;\n",
              "      display: none;\n",
              "      fill: #1967D2;\n",
              "      height: 32px;\n",
              "      padding: 0 0 0 0;\n",
              "      width: 32px;\n",
              "    }\n",
              "\n",
              "    .colab-df-convert:hover {\n",
              "      background-color: #E2EBFA;\n",
              "      box-shadow: 0px 1px 2px rgba(60, 64, 67, 0.3), 0px 1px 3px 1px rgba(60, 64, 67, 0.15);\n",
              "      fill: #174EA6;\n",
              "    }\n",
              "\n",
              "    .colab-df-buttons div {\n",
              "      margin-bottom: 4px;\n",
              "    }\n",
              "\n",
              "    [theme=dark] .colab-df-convert {\n",
              "      background-color: #3B4455;\n",
              "      fill: #D2E3FC;\n",
              "    }\n",
              "\n",
              "    [theme=dark] .colab-df-convert:hover {\n",
              "      background-color: #434B5C;\n",
              "      box-shadow: 0px 1px 3px 1px rgba(0, 0, 0, 0.15);\n",
              "      filter: drop-shadow(0px 1px 2px rgba(0, 0, 0, 0.3));\n",
              "      fill: #FFFFFF;\n",
              "    }\n",
              "  </style>\n",
              "\n",
              "    <script>\n",
              "      const buttonEl =\n",
              "        document.querySelector('#df-157ecee3-29ba-4771-ab22-d3e9a50f7881 button.colab-df-convert');\n",
              "      buttonEl.style.display =\n",
              "        google.colab.kernel.accessAllowed ? 'block' : 'none';\n",
              "\n",
              "      async function convertToInteractive(key) {\n",
              "        const element = document.querySelector('#df-157ecee3-29ba-4771-ab22-d3e9a50f7881');\n",
              "        const dataTable =\n",
              "          await google.colab.kernel.invokeFunction('convertToInteractive',\n",
              "                                                    [key], {});\n",
              "        if (!dataTable) return;\n",
              "\n",
              "        const docLinkHtml = 'Like what you see? Visit the ' +\n",
              "          '<a target=\"_blank\" href=https://colab.research.google.com/notebooks/data_table.ipynb>data table notebook</a>'\n",
              "          + ' to learn more about interactive tables.';\n",
              "        element.innerHTML = '';\n",
              "        dataTable['output_type'] = 'display_data';\n",
              "        await google.colab.output.renderOutput(dataTable, element);\n",
              "        const docLink = document.createElement('div');\n",
              "        docLink.innerHTML = docLinkHtml;\n",
              "        element.appendChild(docLink);\n",
              "      }\n",
              "    </script>\n",
              "  </div>\n",
              "\n",
              "\n",
              "<div id=\"df-7c86c9b0-d38e-4a45-ab40-23e33120cf94\">\n",
              "  <button class=\"colab-df-quickchart\" onclick=\"quickchart('df-7c86c9b0-d38e-4a45-ab40-23e33120cf94')\"\n",
              "            title=\"Suggest charts\"\n",
              "            style=\"display:none;\">\n",
              "\n",
              "<svg xmlns=\"http://www.w3.org/2000/svg\" height=\"24px\"viewBox=\"0 0 24 24\"\n",
              "     width=\"24px\">\n",
              "    <g>\n",
              "        <path d=\"M19 3H5c-1.1 0-2 .9-2 2v14c0 1.1.9 2 2 2h14c1.1 0 2-.9 2-2V5c0-1.1-.9-2-2-2zM9 17H7v-7h2v7zm4 0h-2V7h2v10zm4 0h-2v-4h2v4z\"/>\n",
              "    </g>\n",
              "</svg>\n",
              "  </button>\n",
              "\n",
              "<style>\n",
              "  .colab-df-quickchart {\n",
              "      --bg-color: #E8F0FE;\n",
              "      --fill-color: #1967D2;\n",
              "      --hover-bg-color: #E2EBFA;\n",
              "      --hover-fill-color: #174EA6;\n",
              "      --disabled-fill-color: #AAA;\n",
              "      --disabled-bg-color: #DDD;\n",
              "  }\n",
              "\n",
              "  [theme=dark] .colab-df-quickchart {\n",
              "      --bg-color: #3B4455;\n",
              "      --fill-color: #D2E3FC;\n",
              "      --hover-bg-color: #434B5C;\n",
              "      --hover-fill-color: #FFFFFF;\n",
              "      --disabled-bg-color: #3B4455;\n",
              "      --disabled-fill-color: #666;\n",
              "  }\n",
              "\n",
              "  .colab-df-quickchart {\n",
              "    background-color: var(--bg-color);\n",
              "    border: none;\n",
              "    border-radius: 50%;\n",
              "    cursor: pointer;\n",
              "    display: none;\n",
              "    fill: var(--fill-color);\n",
              "    height: 32px;\n",
              "    padding: 0;\n",
              "    width: 32px;\n",
              "  }\n",
              "\n",
              "  .colab-df-quickchart:hover {\n",
              "    background-color: var(--hover-bg-color);\n",
              "    box-shadow: 0 1px 2px rgba(60, 64, 67, 0.3), 0 1px 3px 1px rgba(60, 64, 67, 0.15);\n",
              "    fill: var(--button-hover-fill-color);\n",
              "  }\n",
              "\n",
              "  .colab-df-quickchart-complete:disabled,\n",
              "  .colab-df-quickchart-complete:disabled:hover {\n",
              "    background-color: var(--disabled-bg-color);\n",
              "    fill: var(--disabled-fill-color);\n",
              "    box-shadow: none;\n",
              "  }\n",
              "\n",
              "  .colab-df-spinner {\n",
              "    border: 2px solid var(--fill-color);\n",
              "    border-color: transparent;\n",
              "    border-bottom-color: var(--fill-color);\n",
              "    animation:\n",
              "      spin 1s steps(1) infinite;\n",
              "  }\n",
              "\n",
              "  @keyframes spin {\n",
              "    0% {\n",
              "      border-color: transparent;\n",
              "      border-bottom-color: var(--fill-color);\n",
              "      border-left-color: var(--fill-color);\n",
              "    }\n",
              "    20% {\n",
              "      border-color: transparent;\n",
              "      border-left-color: var(--fill-color);\n",
              "      border-top-color: var(--fill-color);\n",
              "    }\n",
              "    30% {\n",
              "      border-color: transparent;\n",
              "      border-left-color: var(--fill-color);\n",
              "      border-top-color: var(--fill-color);\n",
              "      border-right-color: var(--fill-color);\n",
              "    }\n",
              "    40% {\n",
              "      border-color: transparent;\n",
              "      border-right-color: var(--fill-color);\n",
              "      border-top-color: var(--fill-color);\n",
              "    }\n",
              "    60% {\n",
              "      border-color: transparent;\n",
              "      border-right-color: var(--fill-color);\n",
              "    }\n",
              "    80% {\n",
              "      border-color: transparent;\n",
              "      border-right-color: var(--fill-color);\n",
              "      border-bottom-color: var(--fill-color);\n",
              "    }\n",
              "    90% {\n",
              "      border-color: transparent;\n",
              "      border-bottom-color: var(--fill-color);\n",
              "    }\n",
              "  }\n",
              "</style>\n",
              "\n",
              "  <script>\n",
              "    async function quickchart(key) {\n",
              "      const quickchartButtonEl =\n",
              "        document.querySelector('#' + key + ' button');\n",
              "      quickchartButtonEl.disabled = true;  // To prevent multiple clicks.\n",
              "      quickchartButtonEl.classList.add('colab-df-spinner');\n",
              "      try {\n",
              "        const charts = await google.colab.kernel.invokeFunction(\n",
              "            'suggestCharts', [key], {});\n",
              "      } catch (error) {\n",
              "        console.error('Error during call to suggestCharts:', error);\n",
              "      }\n",
              "      quickchartButtonEl.classList.remove('colab-df-spinner');\n",
              "      quickchartButtonEl.classList.add('colab-df-quickchart-complete');\n",
              "    }\n",
              "    (() => {\n",
              "      let quickchartButtonEl =\n",
              "        document.querySelector('#df-7c86c9b0-d38e-4a45-ab40-23e33120cf94 button');\n",
              "      quickchartButtonEl.style.display =\n",
              "        google.colab.kernel.accessAllowed ? 'block' : 'none';\n",
              "    })();\n",
              "  </script>\n",
              "</div>\n",
              "    </div>\n",
              "  </div>\n"
            ]
          },
          "metadata": {},
          "execution_count": 7
        }
      ]
    },
    {
      "cell_type": "code",
      "source": [
        "print(df.columns)"
      ],
      "metadata": {
        "colab": {
          "base_uri": "https://localhost:8080/"
        },
        "id": "3YbfRh6fpUC_",
        "outputId": "f3951261-f6a2-4b1e-a39b-250cf02d6383"
      },
      "execution_count": 26,
      "outputs": [
        {
          "output_type": "stream",
          "name": "stdout",
          "text": [
            "Index(['book_id', 'goodreads_book_id', 'best_book_id', 'work_id',\n",
            "       'books_count', 'isbn', 'isbn13', 'authors', 'original_publication_year',\n",
            "       'original_title', 'title', 'language_code', 'average_rating',\n",
            "       'ratings_count', 'work_ratings_count', 'work_text_reviews_count',\n",
            "       'ratings_1', 'ratings_2', 'ratings_3', 'ratings_4', 'ratings_5',\n",
            "       'image_url', 'small_image_url', 'NonEnglish'],\n",
            "      dtype='object')\n"
          ]
        }
      ]
    },
    {
      "cell_type": "markdown",
      "source": [
        "Q1: How many rows and columns are there in books.csv dataset?"
      ],
      "metadata": {
        "id": "ZZPtFnT2kxxj"
      }
    },
    {
      "cell_type": "markdown",
      "source": [],
      "metadata": {
        "id": "sl2BqBamkY0I"
      }
    },
    {
      "cell_type": "code",
      "source": [
        "print(\"no of rows are     : \",df.shape[0])\n",
        "print(\"no of coloumns are : \",df.shape[1])"
      ],
      "metadata": {
        "colab": {
          "base_uri": "https://localhost:8080/"
        },
        "id": "KaLchzYqkvAq",
        "outputId": "307e6f99-99e9-4e2a-cfaa-7426107d2ffe"
      },
      "execution_count": 13,
      "outputs": [
        {
          "output_type": "stream",
          "name": "stdout",
          "text": [
            "no of rows are     :  399\n",
            "no of coloumns are :  24\n"
          ]
        }
      ]
    },
    {
      "cell_type": "markdown",
      "source": [
        "Q2: How many books do not have an original title?"
      ],
      "metadata": {
        "id": "7gw8BwS4spLN"
      }
    },
    {
      "cell_type": "code",
      "source": [
        "count = df['original_title'].isnull().sum()\n",
        "print('No of books do not have an original title : ',count)"
      ],
      "metadata": {
        "colab": {
          "base_uri": "https://localhost:8080/"
        },
        "id": "nF8PVNcOk4LZ",
        "outputId": "ffe1dee9-49f5-4016-f0b6-547a9d387ec1"
      },
      "execution_count": 25,
      "outputs": [
        {
          "output_type": "stream",
          "name": "stdout",
          "text": [
            "No of books do not have an original title :  36\n"
          ]
        }
      ]
    },
    {
      "cell_type": "markdown",
      "source": [
        "Q3: How many unique books are present in the dataset ? Evaluate based on the 'book_id' after removing null values in the original_title column."
      ],
      "metadata": {
        "id": "P2vu0N0Qspy2"
      }
    },
    {
      "cell_type": "code",
      "source": [
        "count = (df[df['original_title'].notna()]['book_id'].nunique())\n",
        "print('No of unique books : ',count)"
      ],
      "metadata": {
        "colab": {
          "base_uri": "https://localhost:8080/"
        },
        "id": "ba-jQFftlsIu",
        "outputId": "9358b7ba-1655-4a46-bb8e-7d29e35fcc79"
      },
      "execution_count": 24,
      "outputs": [
        {
          "output_type": "stream",
          "name": "stdout",
          "text": [
            "No of unique books :  363\n"
          ]
        }
      ]
    },
    {
      "cell_type": "markdown",
      "source": [
        "Q4: What is the average rating of all the books in the dataset based on ‘average_rating’?"
      ],
      "metadata": {
        "id": "0uUIOs3BsyXu"
      }
    },
    {
      "cell_type": "code",
      "source": [
        "print(\"Average rating of all books: \", df['average_rating'].mean())"
      ],
      "metadata": {
        "colab": {
          "base_uri": "https://localhost:8080/"
        },
        "id": "ItKTlUBqpLdT",
        "outputId": "fcaeb339-edf7-41ac-8b55-d921dd148a24"
      },
      "execution_count": 27,
      "outputs": [
        {
          "output_type": "stream",
          "name": "stdout",
          "text": [
            "Average rating of all books:  3.9837844611528817\n"
          ]
        }
      ]
    },
    {
      "cell_type": "markdown",
      "source": [
        "Q5: Find the number of books published in the year ‘2000’ based on the ‘original_publication_year’."
      ],
      "metadata": {
        "id": "z3Ed2056s1IE"
      }
    },
    {
      "cell_type": "code",
      "source": [
        "df1 = df[df['original_publication_year'] == 2000]\n",
        "print('No of books published in year 2000 : ',df1.shape[0])"
      ],
      "metadata": {
        "colab": {
          "base_uri": "https://localhost:8080/"
        },
        "id": "rtWUKVCOpbyi",
        "outputId": "9e0c7a47-9d6a-464b-b3a6-ddc722bc4bce"
      },
      "execution_count": 29,
      "outputs": [
        {
          "output_type": "stream",
          "name": "stdout",
          "text": [
            "No of books published in year 2000 :  8\n"
          ]
        }
      ]
    },
    {
      "cell_type": "markdown",
      "source": [
        "Q6: Which book (title) has the maximum number of ratings based on ‘work_ratings_count’."
      ],
      "metadata": {
        "id": "C2VV14UPs3vq"
      }
    },
    {
      "cell_type": "code",
      "source": [
        "df1 = df[df['work_ratings_count'] == df['work_ratings_count'].max()]\n",
        "print('Book title is : ',df1['title'].values[0])\n"
      ],
      "metadata": {
        "colab": {
          "base_uri": "https://localhost:8080/"
        },
        "id": "9yffsQ9Dp9uj",
        "outputId": "369a61ab-72d3-4097-cb72-852ba007b06a"
      },
      "execution_count": 35,
      "outputs": [
        {
          "output_type": "stream",
          "name": "stdout",
          "text": [
            "Book title is :  The Diary of a Young Girl\n"
          ]
        }
      ]
    },
    {
      "cell_type": "markdown",
      "source": [
        "Q7: Bucket the average_rating of books into 11 buckets [0, 0.5, 1.0, 1.5, 2.0, 2.5, 3.0, 3.5, 4.0, 4.5, 5.0] with 0.5 decimal rounding (eg: average_rating 3.0 to 3.49 will fall in bucket 3.0). Plot bar graph to show total number of books in each rating bucket."
      ],
      "metadata": {
        "id": "leHtHjjWs6mi"
      }
    },
    {
      "cell_type": "code",
      "source": [
        "buckets = [0, 0.5, 1, 1.5, 2, 2.5, 3, 3.5, 4 , 4.5, 5]\n",
        "\n",
        "\n",
        "df['Rating Bucket'] = pd.cut(df['average_rating'], bins=buckets, right=False)\n",
        "\n",
        "bucket_counts = df.groupby('Rating Bucket').size()"
      ],
      "metadata": {
        "id": "JDDOWkUArNVm"
      },
      "execution_count": 36,
      "outputs": []
    },
    {
      "cell_type": "code",
      "source": [
        "import matplotlib.pyplot as plt"
      ],
      "metadata": {
        "id": "9i5waDT2sejR"
      },
      "execution_count": 37,
      "outputs": []
    },
    {
      "cell_type": "code",
      "source": [
        "plt.figure(figsize=(10, 8))\n",
        "bucket_counts.plot(kind='bar')\n",
        "plt.title('Number of Books in Each Rating Bucket')\n",
        "plt.xlabel('Average Rating Bucket')\n",
        "plt.ylabel('Number of Books')\n",
        "plt.show()"
      ],
      "metadata": {
        "colab": {
          "base_uri": "https://localhost:8080/",
          "height": 768
        },
        "id": "1P2EDA9tsVKe",
        "outputId": "68d2ed7f-6a67-4298-c826-6e88b3e9452d"
      },
      "execution_count": 38,
      "outputs": [
        {
          "output_type": "display_data",
          "data": {
            "text/plain": [
              "<Figure size 1000x800 with 1 Axes>"
            ],
            "image/png": "[encoded data removed]"
          },
          "metadata": {}
        }
      ]
    }
  ]
}